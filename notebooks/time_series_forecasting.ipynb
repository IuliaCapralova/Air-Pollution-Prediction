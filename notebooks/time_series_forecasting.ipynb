{
 "cells": [
  {
   "cell_type": "code",
   "execution_count": 1,
   "metadata": {},
   "outputs": [],
   "source": [
    "from sklearn.model_selection import GridSearchCV\n",
    "from sklearn.preprocessing import StandardScaler\n",
    "from sklearn.pipeline import Pipeline\n",
    "from sklearn.decomposition import PCA\n",
    "from sklearn.linear_model import ElasticNet, Ridge\n",
    "from sklearn.metrics import mean_absolute_error, mean_squared_error\n",
    "from sklearn.model_selection import GridSearchCV\n",
    "from sklearn.multioutput import MultiOutputRegressor\n",
    "import pandas as pd\n",
    "import numpy as np"
   ]
  },
  {
   "cell_type": "code",
   "execution_count": 23,
   "metadata": {},
   "outputs": [
    {
     "data": {
      "text/html": [
       "<div>\n",
       "<style scoped>\n",
       "    .dataframe tbody tr th:only-of-type {\n",
       "        vertical-align: middle;\n",
       "    }\n",
       "\n",
       "    .dataframe tbody tr th {\n",
       "        vertical-align: top;\n",
       "    }\n",
       "\n",
       "    .dataframe thead th {\n",
       "        text-align: right;\n",
       "    }\n",
       "</style>\n",
       "<table border=\"1\" class=\"dataframe\">\n",
       "  <thead>\n",
       "    <tr style=\"text-align: right;\">\n",
       "      <th></th>\n",
       "      <th>YYYYMMDD</th>\n",
       "      <th>HH</th>\n",
       "      <th>MWD</th>\n",
       "      <th>MWS</th>\n",
       "      <th>MWS10</th>\n",
       "      <th>WG</th>\n",
       "      <th>T</th>\n",
       "      <th>TD</th>\n",
       "      <th>SD</th>\n",
       "      <th>GR</th>\n",
       "      <th>P</th>\n",
       "      <th>NO2</th>\n",
       "      <th>O3</th>\n",
       "    </tr>\n",
       "  </thead>\n",
       "  <tbody>\n",
       "    <tr>\n",
       "      <th>0</th>\n",
       "      <td>20160101</td>\n",
       "      <td>1</td>\n",
       "      <td>200</td>\n",
       "      <td>40</td>\n",
       "      <td>40</td>\n",
       "      <td>70</td>\n",
       "      <td>74</td>\n",
       "      <td>44</td>\n",
       "      <td>0</td>\n",
       "      <td>0</td>\n",
       "      <td>10212</td>\n",
       "      <td>36.53</td>\n",
       "      <td>20.24</td>\n",
       "    </tr>\n",
       "    <tr>\n",
       "      <th>1</th>\n",
       "      <td>20160101</td>\n",
       "      <td>2</td>\n",
       "      <td>200</td>\n",
       "      <td>40</td>\n",
       "      <td>30</td>\n",
       "      <td>70</td>\n",
       "      <td>65</td>\n",
       "      <td>44</td>\n",
       "      <td>0</td>\n",
       "      <td>0</td>\n",
       "      <td>10219</td>\n",
       "      <td>22.74</td>\n",
       "      <td>32.12</td>\n",
       "    </tr>\n",
       "    <tr>\n",
       "      <th>2</th>\n",
       "      <td>20160101</td>\n",
       "      <td>3</td>\n",
       "      <td>210</td>\n",
       "      <td>30</td>\n",
       "      <td>30</td>\n",
       "      <td>50</td>\n",
       "      <td>55</td>\n",
       "      <td>42</td>\n",
       "      <td>0</td>\n",
       "      <td>0</td>\n",
       "      <td>10225</td>\n",
       "      <td>24.28</td>\n",
       "      <td>29.87</td>\n",
       "    </tr>\n",
       "    <tr>\n",
       "      <th>3</th>\n",
       "      <td>20160101</td>\n",
       "      <td>4</td>\n",
       "      <td>210</td>\n",
       "      <td>30</td>\n",
       "      <td>30</td>\n",
       "      <td>40</td>\n",
       "      <td>55</td>\n",
       "      <td>46</td>\n",
       "      <td>0</td>\n",
       "      <td>0</td>\n",
       "      <td>10228</td>\n",
       "      <td>22.56</td>\n",
       "      <td>27.62</td>\n",
       "    </tr>\n",
       "    <tr>\n",
       "      <th>4</th>\n",
       "      <td>20160101</td>\n",
       "      <td>5</td>\n",
       "      <td>110</td>\n",
       "      <td>10</td>\n",
       "      <td>10</td>\n",
       "      <td>40</td>\n",
       "      <td>21</td>\n",
       "      <td>15</td>\n",
       "      <td>0</td>\n",
       "      <td>0</td>\n",
       "      <td>10233</td>\n",
       "      <td>23.67</td>\n",
       "      <td>25.62</td>\n",
       "    </tr>\n",
       "  </tbody>\n",
       "</table>\n",
       "</div>"
      ],
      "text/plain": [
       "   YYYYMMDD  HH  MWD  MWS  MWS10  WG   T  TD  SD  GR      P    NO2     O3\n",
       "0  20160101   1  200   40     40  70  74  44   0   0  10212  36.53  20.24\n",
       "1  20160101   2  200   40     30  70  65  44   0   0  10219  22.74  32.12\n",
       "2  20160101   3  210   30     30  50  55  42   0   0  10225  24.28  29.87\n",
       "3  20160101   4  210   30     30  40  55  46   0   0  10228  22.56  27.62\n",
       "4  20160101   5  110   10     10  40  21  15   0   0  10233  23.67  25.62"
      ]
     },
     "execution_count": 23,
     "metadata": {},
     "output_type": "execute_result"
    }
   ],
   "source": [
    "df = pd.read_csv(\"../data/processed/combined.csv\")\n",
    "df.head()"
   ]
  },
  {
   "cell_type": "code",
   "execution_count": 42,
   "metadata": {},
   "outputs": [],
   "source": [
    "X = df.iloc[:, 1:11]\n",
    "y = df.iloc[:, 11:] "
   ]
  },
  {
   "cell_type": "code",
   "execution_count": 51,
   "metadata": {},
   "outputs": [
    {
     "name": "stdout",
     "output_type": "stream",
     "text": [
      "X_train shape: (26308, 10), y_train shape: (26308, 2)\n",
      "X_val shape: (8770, 10), y_val shape: (8770, 2)\n",
      "X_test shape: (8770, 10), y_test shape: (8770, 2)\n"
     ]
    }
   ],
   "source": [
    "split_idx = int(0.8 * len(X))\n",
    "X_train, X_test = X[:split_idx], X[split_idx:]\n",
    "y_train, y_test = y[:split_idx], y[split_idx:]\n",
    "\n",
    "split_index = int(0.75* len(X_train))\n",
    "X_train, X_val = X_train[:split_index], X_train[split_index:]\n",
    "y_train, y_val = y_train[:split_index], y_train[split_index:]\n",
    "\n",
    "print(f\"X_train shape: {X_train.shape}, y_train shape: {y_train.shape}\")\n",
    "print(f\"X_val shape: {X_val.shape}, y_val shape: {y_val.shape}\")\n",
    "print(f\"X_test shape: {X_test.shape}, y_test shape: {y_test.shape}\")"
   ]
  },
  {
   "cell_type": "code",
   "execution_count": 52,
   "metadata": {},
   "outputs": [],
   "source": [
    "sk = StandardScaler()\n",
    "X_train_scaled = sk.fit_transform(X_train)\n",
    "X_val_scaled = sk.transform(X_val)\n",
    "X_test_scaled = sk.transform(X_test)\n",
    "\n",
    "pca = PCA(4)\n",
    "X_train_scaled = pca.fit_transform(X_train_scaled)\n",
    "X_val_scaled = pca.transform(X_val_scaled)\n",
    "X_test_scaled = pca.transform(X_test_scaled)"
   ]
  },
  {
   "cell_type": "code",
   "execution_count": 45,
   "metadata": {},
   "outputs": [],
   "source": [
    "def split_sequences(trainig_window, prediction_window, X, y):\n",
    "\n",
    "    X_windows = []\n",
    "    y_windows = []\n",
    "    summed_window = trainig_window + prediction_window\n",
    "\n",
    "    for start in range(0, len(X) - summed_window):  \n",
    "\n",
    "        X_window = X[ start: start+trainig_window ]\n",
    "\n",
    "        y_window = y[start + trainig_window : start+ summed_window ]\n",
    "\n",
    "        X_windows.append(X_window)\n",
    "        y_windows.append(y_window)\n",
    "\n",
    "    return np.array(X_windows), np.array(y_windows)"
   ]
  },
  {
   "cell_type": "code",
   "execution_count": 49,
   "metadata": {},
   "outputs": [],
   "source": [
    "import itertools\n",
    "\n",
    "def grid_search_validation(pipeline, param_grid, X_train, y_train, X_val, y_val):\n",
    "\n",
    "\n",
    "    # Get all combinations of hyperparameters\n",
    "    param_combinations = list(itertools.product(*param_grid.values()))\n",
    "    best_params = None\n",
    "    best_score = np.inf\n",
    "    best_model = None\n",
    "    \n",
    "\n",
    "    for combination in param_combinations:\n",
    "        params = {key: value for key, value in zip(param_grid.keys(), combination)}\n",
    "        \n",
    "        pipeline.set_params(**params)\n",
    "        \n",
    "        pipeline.fit(X_train, y_train)\n",
    "        y_val_pred = pipeline.predict(X_val)\n",
    "        \n",
    "        score = mean_squared_error(y_val, y_val_pred)\n",
    "        \n",
    "        if score < best_score:\n",
    "            best_score = score\n",
    "            best_params = params\n",
    "            best_model = pipeline\n",
    "    \n",
    "    return best_model, best_params, best_score"
   ]
  },
  {
   "cell_type": "code",
   "execution_count": 54,
   "metadata": {},
   "outputs": [
    {
     "name": "stdout",
     "output_type": "stream",
     "text": [
      "For window 240: \n",
      "The best parameters: {'regressor__estimator__alpha': 50, 'regressor__estimator__l1_ratio': 0.01}\n",
      "Best validation score (MSE): 315.032631022548\n"
     ]
    }
   ],
   "source": [
    "param_grid = {\n",
    "     'regressor__estimator__alpha': [50],\n",
    "     'regressor__estimator__l1_ratio': [0.01]\n",
    " }\n",
    "\n",
    "pipeline = Pipeline(steps = [\n",
    "         ('regressor', MultiOutputRegressor(ElasticNet(random_state = 0)))\n",
    "         ])\n",
    "\n",
    "\n",
    "windows = [240]\n",
    "prediction_window = 72 # three days\n",
    "\n",
    "for trainig_window in windows:\n",
    "\n",
    "    X_train_windows, y_train_windows = split_sequences(trainig_window, prediction_window, X_train_scaled, y_train)\n",
    "    X_val_windows, y_val_windows = split_sequences(trainig_window, prediction_window, X_val_scaled, y_val)\n",
    "    X_test_windows, y_test_windows = split_sequences(trainig_window, prediction_window, X_test_scaled, y_test)\n",
    "\n",
    "\n",
    "    X_train_w = X_train_windows.reshape(X_train_windows.shape[0], -1)\n",
    "    X_test_w = X_test_windows.reshape(X_test_windows.shape[0], -1)\n",
    "    X_val_w = X_val_windows.reshape(X_val_windows.shape[0], -1)\n",
    "\n",
    "\n",
    "    y_train_w = y_train_windows.reshape(y_train_windows.shape[0], -1)\n",
    "    y_test_w = y_test_windows.reshape(y_test_windows.shape[0], -1)\n",
    "    y_val_w = y_val_windows.reshape(y_val_windows.shape[0], -1)\n",
    "\n",
    "    best_model, best_params, best_score = grid_search_validation(pipeline, param_grid, X_train_w, y_train_w, X_val_w, y_val_w)\n",
    "\n",
    "    print(f\"For window {trainig_window}: \")\n",
    "    print(f\"The best parameters: {best_params}\")\n",
    "    print(f\"Best validation score (MSE): {best_score}\")"
   ]
  },
  {
   "cell_type": "code",
   "execution_count": 58,
   "metadata": {},
   "outputs": [
    {
     "name": "stdout",
     "output_type": "stream",
     "text": [
      "Mean Absolute Error: 13.92451922509907\n",
      "Mean Squared Error: 305.3729317828829\n"
     ]
    }
   ],
   "source": [
    "y_pred = best_model.predict(X_test_w)\n",
    "\n",
    "# Evaluate performance \n",
    "mae = mean_absolute_error(y_test_w, y_pred)\n",
    "print(f\"Mean Absolute Error: {mae}\")\n",
    "\n",
    "mse = mean_squared_error(y_test_w, y_pred)\n",
    "print(f\"Mean Squared Error: {mse}\")"
   ]
  },
  {
   "cell_type": "code",
   "execution_count": null,
   "metadata": {},
   "outputs": [],
   "source": []
  }
 ],
 "metadata": {
  "kernelspec": {
   "display_name": "mlin",
   "language": "python",
   "name": "python3"
  },
  "language_info": {
   "codemirror_mode": {
    "name": "ipython",
    "version": 3
   },
   "file_extension": ".py",
   "mimetype": "text/x-python",
   "name": "python",
   "nbconvert_exporter": "python",
   "pygments_lexer": "ipython3",
   "version": "3.12.5"
  }
 },
 "nbformat": 4,
 "nbformat_minor": 2
}
